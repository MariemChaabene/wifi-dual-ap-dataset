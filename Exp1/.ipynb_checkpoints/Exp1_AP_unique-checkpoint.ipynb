{
 "cells": [
  {
   "cell_type": "code",
   "execution_count": null,
   "id": "122c47f1-0c1b-458a-a843-a15aaca70a12",
   "metadata": {},
   "outputs": [],
   "source": [
    "import pandas as pd\n",
    "\n",
    "# Charger le JSONL brut\n",
    "df = pd.read_json(\"wifi_log.jsonl\", lines=True)\n",
    "\n",
    "# Aplatir les clients\n",
    "df_clients = df.explode(\"clients\")\n",
    "clients_data = pd.json_normalize(df_clients[\"clients\"])\n",
    "\n",
    "# Fusionner les colonnes globales avec celles des clients\n",
    "final_df = pd.concat([\n",
    "    df_clients.drop(columns=[\"clients\"]).reset_index(drop=True),\n",
    "    clients_data.reset_index(drop=True)\n",
    "], axis=1)\n",
    "\n",
    "# Afficher un aperçu\n",
    "final_df.head()\n"
   ]
  }
 ],
 "metadata": {
  "kernelspec": {
   "display_name": "Python 3 (ipykernel)",
   "language": "python",
   "name": "python3"
  },
  "language_info": {
   "codemirror_mode": {
    "name": "ipython",
    "version": 3
   },
   "file_extension": ".py",
   "mimetype": "text/x-python",
   "name": "python",
   "nbconvert_exporter": "python",
   "pygments_lexer": "ipython3",
   "version": "3.12.5"
  }
 },
 "nbformat": 4,
 "nbformat_minor": 5
}
